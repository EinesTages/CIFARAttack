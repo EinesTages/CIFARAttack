{
 "cells": [
  {
   "cell_type": "code",
   "execution_count": 1,
   "id": "a64fefce",
   "metadata": {},
   "outputs": [
    {
     "name": "stdout",
     "output_type": "stream",
     "text": [
      "Looking in indexes: https://pypi.tuna.tsinghua.edu.cn/simple\n",
      "Requirement already satisfied: torchdiffeq in c:\\programdata\\anaconda3\\lib\\site-packages (0.2.4)\n",
      "Requirement already satisfied: scipy>=1.4.0 in c:\\programdata\\anaconda3\\lib\\site-packages (from torchdiffeq) (1.9.1)\n",
      "Requirement already satisfied: torch>=1.5.0 in c:\\users\\zhangjunkai\\appdata\\roaming\\python\\python39\\site-packages (from torchdiffeq) (2.1.0+cu118)\n",
      "Requirement already satisfied: numpy<1.25.0,>=1.18.5 in c:\\users\\zhangjunkai\\appdata\\roaming\\python\\python39\\site-packages (from scipy>=1.4.0->torchdiffeq) (1.23.5)\n",
      "Requirement already satisfied: typing-extensions in c:\\users\\zhangjunkai\\appdata\\roaming\\python\\python39\\site-packages (from torch>=1.5.0->torchdiffeq) (4.9.0)\n",
      "Requirement already satisfied: jinja2 in c:\\users\\zhangjunkai\\appdata\\roaming\\python\\python39\\site-packages (from torch>=1.5.0->torchdiffeq) (3.0.2)\n",
      "Requirement already satisfied: filelock in c:\\users\\zhangjunkai\\appdata\\roaming\\python\\python39\\site-packages (from torch>=1.5.0->torchdiffeq) (3.13.1)\n",
      "Requirement already satisfied: sympy in c:\\programdata\\anaconda3\\lib\\site-packages (from torch>=1.5.0->torchdiffeq) (1.10.1)\n",
      "Requirement already satisfied: fsspec in c:\\users\\zhangjunkai\\appdata\\roaming\\python\\python39\\site-packages (from torch>=1.5.0->torchdiffeq) (2023.6.0)\n",
      "Requirement already satisfied: networkx in c:\\programdata\\anaconda3\\lib\\site-packages (from torch>=1.5.0->torchdiffeq) (2.8.4)\n",
      "Requirement already satisfied: MarkupSafe>=2.0 in c:\\programdata\\anaconda3\\lib\\site-packages (from jinja2->torch>=1.5.0->torchdiffeq) (2.0.1)\n",
      "Requirement already satisfied: mpmath>=0.19 in c:\\programdata\\anaconda3\\lib\\site-packages (from sympy->torch>=1.5.0->torchdiffeq) (1.2.1)\n"
     ]
    },
    {
     "name": "stderr",
     "output_type": "stream",
     "text": [
      "WARNING: Ignoring invalid distribution -pencv-python (c:\\users\\zhangjunkai\\appdata\\roaming\\python\\python39\\site-packages)\n",
      "WARNING: Ignoring invalid distribution -pencv-python (c:\\users\\zhangjunkai\\appdata\\roaming\\python\\python39\\site-packages)\n",
      "WARNING: Ignoring invalid distribution -pencv-python (c:\\users\\zhangjunkai\\appdata\\roaming\\python\\python39\\site-packages)\n",
      "WARNING: Ignoring invalid distribution -pencv-python (c:\\users\\zhangjunkai\\appdata\\roaming\\python\\python39\\site-packages)\n",
      "WARNING: Ignoring invalid distribution -pencv-python (c:\\users\\zhangjunkai\\appdata\\roaming\\python\\python39\\site-packages)\n",
      "WARNING: Ignoring invalid distribution -pencv-python (c:\\users\\zhangjunkai\\appdata\\roaming\\python\\python39\\site-packages)\n"
     ]
    },
    {
     "name": "stdout",
     "output_type": "stream",
     "text": [
      "Files already downloaded and verified\n"
     ]
    }
   ],
   "source": [
    "! pip install torchdiffeq\n",
    "from robustbench.data import load_cifar10\n",
    "from robustbench.utils import load_model, clean_accuracy\n",
    "\n",
    "images, labels = load_cifar10(n_examples=500)\n",
    "device = \"cuda\""
   ]
  },
  {
   "cell_type": "code",
   "execution_count": 4,
   "id": "511b7b10",
   "metadata": {
    "scrolled": true
   },
   "outputs": [
    {
     "name": "stdout",
     "output_type": "stream",
     "text": [
      "Model: Wang2023Better_WRN-28-10\n",
      "- Standard Acc: 0.932\n",
      "Model: Wang2023Better_WRN-70-16\n",
      "- Standard Acc: 0.932\n",
      "Model: Sridhar2021Robust_34_15\n",
      "- Standard Acc: 0.878\n",
      "Model: Sehwag2021Proxy_ResNest152\n",
      "- Standard Acc: 0.874\n",
      "Model: Sehwag2021Proxy_R18\n",
      "- Standard Acc: 0.85\n",
      "Model: Rebuffi2021Fixing_R18_ddpm\n",
      "- Standard Acc: 0.834\n",
      "Model: Rebuffi2021Fixing_106_16_cutmix_ddpm\n",
      "- Standard Acc: 0.89\n",
      "Downloading models\\cifar10\\Linf\\Engstrom2019Robustness.pt (gdrive_id=1etqmQsksNIWBvBQ4r8ZFk_3FJlLWr8Rr).\n"
     ]
    },
    {
     "name": "stderr",
     "output_type": "stream",
     "text": [
      "Downloading...\n",
      "From: https://drive.google.com/uc?id=1etqmQsksNIWBvBQ4r8ZFk_3FJlLWr8Rr\n",
      "To: C:\\Users\\zhangjunkai\\Desktop\\AdvAttack\\CIFARAttack\\models\\cifar10\\Linf\\Engstrom2019Robustness.pt\n",
      "100%|█████████████████████████████████████████████████████████████████████████████| 94.4M/94.4M [00:23<00:00, 3.99MB/s]\n"
     ]
    },
    {
     "name": "stdout",
     "output_type": "stream",
     "text": [
      "Model: Engstrom2019Robustness\n",
      "- Standard Acc: 0.896\n"
     ]
    },
    {
     "name": "stderr",
     "output_type": "stream",
     "text": [
      "Downloading: \"https://github.com/RobustBench/robustbench/releases/download/v1.1/debenedetti2022light-xcit-m-cifar10-linf.pth.tar\" to C:\\Users\\zhangjunkai/.cache\\torch\\hub\\checkpoints\\debenedetti2022light-xcit-m-cifar10-linf.pth.tar\n"
     ]
    },
    {
     "name": "stdout",
     "output_type": "stream",
     "text": [
      "Model: Debenedetti2022Light_XCiT-M12\n",
      "- Standard Acc: 0.92\n",
      "The STD classifier has 232279184 parameters. 232279184 parameters are trainable.\n",
      "The ROB classifier has 267240802 parameters. 267240802 parameters are trainable.\n",
      "Using alpha=0.9987500602493457.\n",
      "Using alpha_diffable=0.9570535356459247.\n",
      "Bypassing robust base model nonlinear transformation for gradient calculations.\n",
      "Disabling autocast.\n",
      "Downloading models\\cifar10\\Linf\\Bai2024MixedNUTS.pt_m0.pt (gdrive_id=1-5EwY_5tQZudo9idwXiUGr3P4OUUGaQN).\n"
     ]
    },
    {
     "name": "stderr",
     "output_type": "stream",
     "text": [
      "Downloading...\n",
      "From (original): https://drive.google.com/uc?id=1-5EwY_5tQZudo9idwXiUGr3P4OUUGaQN\n",
      "From (redirected): https://drive.google.com/uc?id=1-5EwY_5tQZudo9idwXiUGr3P4OUUGaQN&confirm=t&uuid=62638f16-e6f1-47b8-88b5-079309ea61dd\n",
      "To: C:\\Users\\zhangjunkai\\Desktop\\AdvAttack\\CIFARAttack\\models\\cifar10\\Linf\\Bai2024MixedNUTS.pt_m0.pt\n",
      "100%|███████████████████████████████████████████████████████████████████████████████| 929M/929M [04:05<00:00, 3.78MB/s]\n"
     ]
    },
    {
     "name": "stdout",
     "output_type": "stream",
     "text": [
      "Downloading models\\cifar10\\Linf\\Bai2024MixedNUTS.pt_m1.pt (gdrive_id=1-6M8KHZdPmgqYkBSkdZQ2fLwp86ZQ9VU).\n"
     ]
    },
    {
     "name": "stderr",
     "output_type": "stream",
     "text": [
      "Downloading...\n",
      "From (original): https://drive.google.com/uc?id=1-6M8KHZdPmgqYkBSkdZQ2fLwp86ZQ9VU\n",
      "From (redirected): https://drive.google.com/uc?id=1-6M8KHZdPmgqYkBSkdZQ2fLwp86ZQ9VU&confirm=t&uuid=3a007e77-93eb-4052-9ea0-48e84243bd8b\n",
      "To: C:\\Users\\zhangjunkai\\Desktop\\AdvAttack\\CIFARAttack\\models\\cifar10\\Linf\\Bai2024MixedNUTS.pt_m1.pt\n",
      "100%|█████████████████████████████████████████████████████████████████████████████| 1.07G/1.07G [04:50<00:00, 3.68MB/s]\n"
     ]
    },
    {
     "name": "stdout",
     "output_type": "stream",
     "text": [
      "Model: Bai2024MixedNUTS\n",
      "- Standard Acc: 0.946\n",
      "The STD classifier has 232279178 parameters. 0 parameters are trainable.\n",
      "The ROB classifier has 266796506 parameters. 0 parameters are trainable.\n",
      "The mixing network has 67848704 parameters. 67848704 parameters are trainable.\n",
      "\n",
      "gamma has been set to 2.5, but the mixing network is active so the change is not effective.\n",
      "gamma has been set to 3.0, but the mixing network is active so the change is not effective.\n",
      "The mixing network's gamma mean is set to 1.0499999523162842.\n",
      "The mixing network's gamma standard deviation is set to 2.0.\n",
      "The range of alpha during evaluation is set to (0.9599999785423279, 1.0).\n",
      "The logit output scale of the STD network is set to 1.2000000476837158.\n",
      "The logit output scale of the ROB network is set to 0.30000001192092896.\n",
      "\n",
      "Downloading models\\cifar10\\Linf\\Bai2023Improving_edm.pt_m0.pt (gdrive_id=1-5EwY_5tQZudo9idwXiUGr3P4OUUGaQN).\n"
     ]
    },
    {
     "name": "stderr",
     "output_type": "stream",
     "text": [
      "Downloading...\n",
      "From (original): https://drive.google.com/uc?id=1-5EwY_5tQZudo9idwXiUGr3P4OUUGaQN\n",
      "From (redirected): https://drive.google.com/uc?id=1-5EwY_5tQZudo9idwXiUGr3P4OUUGaQN&confirm=t&uuid=458a0677-93a8-4fc0-a3db-56a0e3fb688f\n",
      "To: C:\\Users\\zhangjunkai\\Desktop\\AdvAttack\\CIFARAttack\\models\\cifar10\\Linf\\Bai2023Improving_edm.pt_m0.pt\n",
      "100%|███████████████████████████████████████████████████████████████████████████████| 929M/929M [03:51<00:00, 4.01MB/s]\n"
     ]
    },
    {
     "name": "stdout",
     "output_type": "stream",
     "text": [
      "Downloading models\\cifar10\\Linf\\Bai2023Improving_edm.pt_m1.pt (gdrive_id=1-RF7ZSS-PAh6bfQcuqx4lh9bc9BUGnap).\n"
     ]
    },
    {
     "name": "stderr",
     "output_type": "stream",
     "text": [
      "Downloading...\n",
      "From (original): https://drive.google.com/uc?id=1-RF7ZSS-PAh6bfQcuqx4lh9bc9BUGnap\n",
      "From (redirected): https://drive.google.com/uc?id=1-RF7ZSS-PAh6bfQcuqx4lh9bc9BUGnap&confirm=t&uuid=34fd9039-be66-4a2c-8c9e-97e8bf2efc74\n",
      "To: C:\\Users\\zhangjunkai\\Desktop\\AdvAttack\\CIFARAttack\\models\\cifar10\\Linf\\Bai2023Improving_edm.pt_m1.pt\n",
      "100%|█████████████████████████████████████████████████████████████████████████████| 1.07G/1.07G [06:13<00:00, 2.86MB/s]\n"
     ]
    },
    {
     "name": "stdout",
     "output_type": "stream",
     "text": [
      "Downloading models\\cifar10\\Linf\\Bai2023Improving_edm.pt_m2.pt (gdrive_id=1-7oV7QDgz8McvhbaCj6Owx3Rz3daiPrT).\n"
     ]
    },
    {
     "name": "stderr",
     "output_type": "stream",
     "text": [
      "Downloading...\n",
      "From (original): https://drive.google.com/uc?id=1-7oV7QDgz8McvhbaCj6Owx3Rz3daiPrT\n",
      "From (redirected): https://drive.google.com/uc?id=1-7oV7QDgz8McvhbaCj6Owx3Rz3daiPrT&confirm=t&uuid=7722b5ff-03c7-453f-9fa4-777f7fb594a7\n",
      "To: C:\\Users\\zhangjunkai\\Desktop\\AdvAttack\\CIFARAttack\\models\\cifar10\\Linf\\Bai2023Improving_edm.pt_m2.pt\n",
      "100%|███████████████████████████████████████████████████████████████████████████████| 271M/271M [01:08<00:00, 3.99MB/s]\n"
     ]
    },
    {
     "name": "stdout",
     "output_type": "stream",
     "text": [
      "Model: Bai2023Improving_edm\n",
      "- Standard Acc: 0.95\n"
     ]
    }
   ],
   "source": [
    "\n",
    "model_list = [ 'Wang2023Better_WRN-28-10','Wang2023Better_WRN-70-16','Sridhar2021Robust_34_15','Sehwag2021Proxy_ResNest152','Sehwag2021Proxy_R18','Rebuffi2021Fixing_R18_ddpm','Rebuffi2021Fixing_106_16_cutmix_ddpm','Engstrom2019Robustness','Debenedetti2022Light_XCiT-M12','Bai2024MixedNUTS','Bai2023Improving_edm']\n",
    "for model_name in model_list:\n",
    "    model = load_model(model_name, norm='Linf').to(device)\n",
    "    acc = clean_accuracy(model, images.to(device), labels.to(device))\n",
    "    print('Model: {}'.format(model_name))\n",
    "    print('- Standard Acc: {}'.format(acc))"
   ]
  },
  {
   "cell_type": "code",
   "execution_count": null,
   "id": "4e09de8c",
   "metadata": {},
   "outputs": [],
   "source": []
  }
 ],
 "metadata": {
  "kernelspec": {
   "display_name": "Python [conda env:root] *",
   "language": "python",
   "name": "conda-root-py"
  },
  "language_info": {
   "codemirror_mode": {
    "name": "ipython",
    "version": 3
   },
   "file_extension": ".py",
   "mimetype": "text/x-python",
   "name": "python",
   "nbconvert_exporter": "python",
   "pygments_lexer": "ipython3",
   "version": "3.9.13"
  }
 },
 "nbformat": 4,
 "nbformat_minor": 5
}
